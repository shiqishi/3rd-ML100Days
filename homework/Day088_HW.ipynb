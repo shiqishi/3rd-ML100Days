{
 "cells": [
  {
   "cell_type": "markdown",
   "metadata": {},
   "source": [
    "## Work\n",
    "1. 請嘗試寫一個 callback 用來記錄各類別在訓練過程中，對驗證集的 True Positive 與 True Negative"
   ]
  },
  {
   "cell_type": "code",
   "execution_count": 3,
   "metadata": {},
   "outputs": [],
   "source": [
    "import os\n",
    "from tensorflow import keras\n",
    "\n",
    "# Disable GPU\n",
    "os.environ[\"CUDA_VISIBLE_DEVICES\"] = \"\""
   ]
  },
  {
   "cell_type": "code",
   "execution_count": 4,
   "metadata": {},
   "outputs": [],
   "source": [
    "train, test = keras.datasets.cifar10.load_data()"
   ]
  },
  {
   "cell_type": "code",
   "execution_count": 5,
   "metadata": {},
   "outputs": [],
   "source": [
    "## 資料前處理\n",
    "def preproc_x(x, flatten=True):\n",
    "    x = x / 255.\n",
    "    if flatten:\n",
    "        x = x.reshape((len(x), -1))\n",
    "    return x\n",
    "\n",
    "def preproc_y(y, num_classes=10):\n",
    "    if y.shape[-1] == 1:\n",
    "        y = keras.utils.to_categorical(y, num_classes)\n",
    "    return y    "
   ]
  },
  {
   "cell_type": "code",
   "execution_count": 6,
   "metadata": {},
   "outputs": [],
   "source": [
    "x_train, y_train = train\n",
    "x_test, y_test = test\n",
    "\n",
    "# Preproc the inputs\n",
    "x_train = preproc_x(x_train)\n",
    "x_test = preproc_x(x_test)\n",
    "\n",
    "# Preprc the outputs\n",
    "y_train = preproc_y(y_train)\n",
    "y_test = preproc_y(y_test)"
   ]
  },
  {
   "cell_type": "code",
   "execution_count": 7,
   "metadata": {},
   "outputs": [],
   "source": [
    "from tensorflow.keras.layers import BatchNormalization\n",
    "def build_mlp(input_shape, output_units=10, num_neurons=[256, 256, 256]):\n",
    "    input_layer = keras.layers.Input(input_shape)\n",
    "    \n",
    "    for i, n_units in enumerate(num_neurons):\n",
    "        if i == 0:\n",
    "            x = keras.layers.Dense(units=n_units, \n",
    "                                   activation=\"relu\", \n",
    "                                   name=\"hidden_layer\"+str(i+1))(input_layer)\n",
    "            x = BatchNormalization()(x)\n",
    "        else:\n",
    "            x = keras.layers.Dense(units=n_units, \n",
    "                                   activation=\"relu\", \n",
    "                                   name=\"hidden_layer\"+str(i+1))(x)\n",
    "            x = BatchNormalization()(x)\n",
    "    \n",
    "    out = keras.layers.Dense(units=output_units, activation=\"softmax\", name=\"output\")(x)\n",
    "    \n",
    "    model = keras.models.Model(inputs=[input_layer], outputs=[out])\n",
    "    return model"
   ]
  },
  {
   "cell_type": "code",
   "execution_count": 8,
   "metadata": {},
   "outputs": [],
   "source": [
    "## 超參數設定\n",
    "LEARNING_RATE = 1e-3\n",
    "EPOCHS = 25\n",
    "BATCH_SIZE = 1024\n",
    "MOMENTUM = 0.95"
   ]
  },
  {
   "cell_type": "code",
   "execution_count": 9,
   "metadata": {},
   "outputs": [],
   "source": [
    "# 載入 Callbacks\n",
    "from tensorflow.keras.callbacks import Callback\n",
    "from sklearn.metrics import f1_score\n",
    "import numpy as np\n",
    "\n",
    "# Record_fp_tp\n",
    "class Record_tp_tn(Callback):\n",
    "    \"\"\"Code Here\n",
    "    撰寫一個紀錄 ture positive 與 true negative 數量的 callbacks    \n",
    "    \"\"\"\n",
    "    def __init__(self, valid_data):\n",
    "        super(Record_tp_tn, self).__init__()\n",
    "        self.validation_data = valid_data\n",
    "            \n",
    "    \n",
    "    def on_epoch_end(self, epoch, logs = {}, thres=0.5):\n",
    "        logs = logs or {}\n",
    "        y_true = self.validation_data[1].argmax(axis = 1)\n",
    "        y_pred = self.model.predict(self.validation_data[0]).argmax(axis = 1)\n",
    "        \n",
    "        #logs[\"val_f1sc\"] = f1_score(y_true = y_true, y_pred = y_pred, average=\"weighted\")\n",
    "        tp=np.sum((y_pred!=0)*(y_pred==y_true))\n",
    "        tn=np.sum((y_pred==0)*(y_true==0))\n",
    "        logs[\"val_tp\"]=tp\n",
    "        logs[\"val_tn\"]=tn\n",
    "        print(\"- val_tp:%f,- val_tn:%f\"%(tp,tn))\n",
    "    "
   ]
  },
  {
   "cell_type": "code",
   "execution_count": 10,
   "metadata": {
    "scrolled": true
   },
   "outputs": [
    {
     "name": "stdout",
     "output_type": "stream",
     "text": [
      "Model: \"model\"\n",
      "_________________________________________________________________\n",
      "Layer (type)                 Output Shape              Param #   \n",
      "=================================================================\n",
      "input_1 (InputLayer)         [(None, 3072)]            0         \n",
      "_________________________________________________________________\n",
      "hidden_layer1 (Dense)        (None, 256)               786688    \n",
      "_________________________________________________________________\n",
      "batch_normalization_v2 (Batc (None, 256)               1024      \n",
      "_________________________________________________________________\n",
      "hidden_layer2 (Dense)        (None, 256)               65792     \n",
      "_________________________________________________________________\n",
      "batch_normalization_v2_1 (Ba (None, 256)               1024      \n",
      "_________________________________________________________________\n",
      "hidden_layer3 (Dense)        (None, 256)               65792     \n",
      "_________________________________________________________________\n",
      "batch_normalization_v2_2 (Ba (None, 256)               1024      \n",
      "_________________________________________________________________\n",
      "output (Dense)               (None, 10)                2570      \n",
      "=================================================================\n",
      "Total params: 923,914\n",
      "Trainable params: 922,378\n",
      "Non-trainable params: 1,536\n",
      "_________________________________________________________________\n",
      "Train on 50000 samples, validate on 10000 samples\n",
      "Epoch 1/25\n",
      "49152/50000 [============================>.] - ETA: 0s - loss: 2.2365 - accuracy: 0.2648- val_tp:1178.000000,- val_tn:768.000000\n",
      "50000/50000 [==============================] - 7s 141us/sample - loss: 2.2301 - accuracy: 0.2661 - val_loss: 2.1492 - val_accuracy: 0.1946\n",
      "Epoch 2/25\n",
      "49152/50000 [============================>.] - ETA: 0s - loss: 1.7598 - accuracy: 0.3855- val_tp:2348.000000,- val_tn:565.000000\n",
      "50000/50000 [==============================] - 6s 119us/sample - loss: 1.7588 - accuracy: 0.3856 - val_loss: 1.9930 - val_accuracy: 0.2913\n",
      "Epoch 3/25\n",
      "49152/50000 [============================>.] - ETA: 0s - loss: 1.6322 - accuracy: 0.4271- val_tp:2910.000000,- val_tn:611.000000\n",
      "50000/50000 [==============================] - 6s 119us/sample - loss: 1.6318 - accuracy: 0.4274 - val_loss: 1.8448 - val_accuracy: 0.3521\n",
      "Epoch 4/25\n",
      "49152/50000 [============================>.] - ETA: 0s - loss: 1.5589 - accuracy: 0.4539- val_tp:3501.000000,- val_tn:522.000000\n",
      "50000/50000 [==============================] - 6s 118us/sample - loss: 1.5575 - accuracy: 0.4542 - val_loss: 1.7215 - val_accuracy: 0.4023\n",
      "Epoch 5/25\n",
      "49152/50000 [============================>.] - ETA: 0s - loss: 1.5044 - accuracy: 0.4722- val_tp:3667.000000,- val_tn:563.000000\n",
      "50000/50000 [==============================] - 6s 122us/sample - loss: 1.5047 - accuracy: 0.4723 - val_loss: 1.6444 - val_accuracy: 0.4230\n",
      "Epoch 6/25\n",
      "49152/50000 [============================>.] - ETA: 0s - loss: 1.4606 - accuracy: 0.4881- val_tp:3893.000000,- val_tn:509.000000\n",
      "50000/50000 [==============================] - 6s 120us/sample - loss: 1.4608 - accuracy: 0.4878 - val_loss: 1.5919 - val_accuracy: 0.4402\n",
      "Epoch 7/25\n",
      "49152/50000 [============================>.] - ETA: 0s - loss: 1.4226 - accuracy: 0.5022- val_tp:4071.000000,- val_tn:511.000000\n",
      "50000/50000 [==============================] - 7s 133us/sample - loss: 1.4228 - accuracy: 0.5023 - val_loss: 1.5441 - val_accuracy: 0.4582\n",
      "Epoch 8/25\n",
      "49152/50000 [============================>.] - ETA: 0s - loss: 1.3895 - accuracy: 0.5150- val_tp:4083.000000,- val_tn:479.000000\n",
      "50000/50000 [==============================] - 6s 128us/sample - loss: 1.3901 - accuracy: 0.5147 - val_loss: 1.5300 - val_accuracy: 0.4562\n",
      "Epoch 9/25\n",
      "49152/50000 [============================>.] - ETA: 0s - loss: 1.3615 - accuracy: 0.5256- val_tp:4124.000000,- val_tn:513.000000\n",
      "50000/50000 [==============================] - 6s 121us/sample - loss: 1.3616 - accuracy: 0.5256 - val_loss: 1.5173 - val_accuracy: 0.4637\n",
      "Epoch 10/25\n",
      "49152/50000 [============================>.] - ETA: 0s - loss: 1.3328 - accuracy: 0.5344- val_tp:4165.000000,- val_tn:533.000000\n",
      "50000/50000 [==============================] - 6s 121us/sample - loss: 1.3333 - accuracy: 0.5345 - val_loss: 1.4963 - val_accuracy: 0.4698\n",
      "Epoch 11/25\n",
      "49152/50000 [============================>.] - ETA: 0s - loss: 1.3080 - accuracy: 0.5440- val_tp:4242.000000,- val_tn:518.000000\n",
      "50000/50000 [==============================] - 6s 119us/sample - loss: 1.3089 - accuracy: 0.5438 - val_loss: 1.4938 - val_accuracy: 0.4760\n",
      "Epoch 12/25\n",
      "49152/50000 [============================>.] - ETA: 0s - loss: 1.2850 - accuracy: 0.5531- val_tp:4283.000000,- val_tn:469.000000\n",
      "50000/50000 [==============================] - 6s 122us/sample - loss: 1.2847 - accuracy: 0.5532 - val_loss: 1.4827 - val_accuracy: 0.4752\n",
      "Epoch 13/25\n",
      "49152/50000 [============================>.] - ETA: 0s - loss: 1.2624 - accuracy: 0.5615- val_tp:4278.000000,- val_tn:522.000000\n",
      "50000/50000 [==============================] - 6s 121us/sample - loss: 1.2620 - accuracy: 0.5616 - val_loss: 1.4692 - val_accuracy: 0.4800\n",
      "Epoch 14/25\n",
      "49152/50000 [============================>.] - ETA: 0s - loss: 1.2388 - accuracy: 0.5719- val_tp:4277.000000,- val_tn:533.000000\n",
      "50000/50000 [==============================] - 6s 130us/sample - loss: 1.2381 - accuracy: 0.5720 - val_loss: 1.4716 - val_accuracy: 0.4810\n",
      "Epoch 15/25\n",
      "49152/50000 [============================>.] - ETA: 0s - loss: 1.2192 - accuracy: 0.5782- val_tp:4208.000000,- val_tn:603.000000\n",
      "50000/50000 [==============================] - 6s 123us/sample - loss: 1.2194 - accuracy: 0.5780 - val_loss: 1.4626 - val_accuracy: 0.4811\n",
      "Epoch 16/25\n",
      "49152/50000 [============================>.] - ETA: 0s - loss: 1.1991 - accuracy: 0.5867- val_tp:4345.000000,- val_tn:476.000000\n",
      "50000/50000 [==============================] - 6s 130us/sample - loss: 1.1987 - accuracy: 0.5871 - val_loss: 1.4675 - val_accuracy: 0.4821\n",
      "Epoch 17/25\n",
      "49152/50000 [============================>.] - ETA: 0s - loss: 1.1808 - accuracy: 0.5927- val_tp:4334.000000,- val_tn:535.000000\n",
      "50000/50000 [==============================] - 6s 129us/sample - loss: 1.1799 - accuracy: 0.5929 - val_loss: 1.4683 - val_accuracy: 0.4869\n",
      "Epoch 18/25\n",
      "49152/50000 [============================>.] - ETA: 0s - loss: 1.1604 - accuracy: 0.5982- val_tp:4288.000000,- val_tn:591.000000\n",
      "50000/50000 [==============================] - 6s 119us/sample - loss: 1.1599 - accuracy: 0.5988 - val_loss: 1.4586 - val_accuracy: 0.4879\n",
      "Epoch 19/25\n",
      "49152/50000 [============================>.] - ETA: 0s - loss: 1.1405 - accuracy: 0.6062- val_tp:4381.000000,- val_tn:530.000000\n",
      "50000/50000 [==============================] - 6s 120us/sample - loss: 1.1411 - accuracy: 0.6058 - val_loss: 1.4543 - val_accuracy: 0.4911\n",
      "Epoch 20/25\n",
      "49152/50000 [============================>.] - ETA: 0s - loss: 1.1219 - accuracy: 0.6139- val_tp:4291.000000,- val_tn:617.000000\n",
      "50000/50000 [==============================] - 6s 120us/sample - loss: 1.1232 - accuracy: 0.6133 - val_loss: 1.4641 - val_accuracy: 0.4908\n",
      "Epoch 21/25\n",
      "49152/50000 [============================>.] - ETA: 0s - loss: 1.1070 - accuracy: 0.6212- val_tp:4384.000000,- val_tn:570.000000\n",
      "50000/50000 [==============================] - 7s 135us/sample - loss: 1.1065 - accuracy: 0.6213 - val_loss: 1.4477 - val_accuracy: 0.4954\n",
      "Epoch 22/25\n",
      "49152/50000 [============================>.] - ETA: 0s - loss: 1.0882 - accuracy: 0.6264- val_tp:4400.000000,- val_tn:577.000000\n",
      "50000/50000 [==============================] - 6s 124us/sample - loss: 1.0881 - accuracy: 0.6262 - val_loss: 1.4478 - val_accuracy: 0.4977\n",
      "Epoch 23/25\n",
      "49152/50000 [============================>.] - ETA: 0s - loss: 1.0713 - accuracy: 0.6337- val_tp:4463.000000,- val_tn:484.000000\n",
      "50000/50000 [==============================] - 6s 123us/sample - loss: 1.0717 - accuracy: 0.6336 - val_loss: 1.4556 - val_accuracy: 0.4947\n",
      "Epoch 24/25\n",
      "49152/50000 [============================>.] - ETA: 0s - loss: 1.0533 - accuracy: 0.6412- val_tp:4398.000000,- val_tn:567.000000\n",
      "50000/50000 [==============================] - 6s 127us/sample - loss: 1.0529 - accuracy: 0.6412 - val_loss: 1.4415 - val_accuracy: 0.4965\n",
      "Epoch 25/25\n"
     ]
    },
    {
     "name": "stdout",
     "output_type": "stream",
     "text": [
      "49152/50000 [============================>.] - ETA: 0s - loss: 1.0368 - accuracy: 0.6463- val_tp:4402.000000,- val_tn:546.000000\n",
      "50000/50000 [==============================] - 6s 121us/sample - loss: 1.0370 - accuracy: 0.6460 - val_loss: 1.4503 - val_accuracy: 0.4948\n"
     ]
    }
   ],
   "source": [
    "model = build_mlp(input_shape=x_train.shape[1:])\n",
    "model.summary()\n",
    "optimizer = keras.optimizers.SGD(lr=LEARNING_RATE, nesterov=True, momentum=MOMENTUM)\n",
    "model.compile(loss=\"categorical_crossentropy\", metrics=[\"accuracy\"], optimizer=optimizer)\n",
    "\n",
    "\"\"\"Code Here\n",
    "將 callbacks 放入模型訓練流程中\n",
    "\"\"\"\n",
    "model.fit(x_train, y_train, \n",
    "          epochs=EPOCHS, \n",
    "          batch_size=BATCH_SIZE, \n",
    "          validation_data=(x_test, y_test), \n",
    "          shuffle=True,\n",
    "          callbacks=[Record_tp_tn(valid_data=(x_test,y_test))]\n",
    "         )\n",
    "\n",
    "# Collect results\n",
    "train_loss = model.history.history[\"loss\"]\n",
    "valid_loss = model.history.history[\"val_loss\"]\n",
    "train_acc = model.history.history[\"accuracy\"]\n",
    "valid_acc = model.history.history[\"val_accuracy\"]\n",
    "\n",
    "\"\"\"Code Here\n",
    "將 tp/tn 從訓練完的模型中取出\n",
    "\"\"\"\n",
    "valid_tp = model.history.history[\"val_tp\"]\n",
    "valid_tn = model.history.history[\"val_tn\"]"
   ]
  },
  {
   "cell_type": "code",
   "execution_count": 11,
   "metadata": {},
   "outputs": [
    {
     "data": {
      "image/png": "[encoded data removed]",
      "text/plain": [
       "<Figure size 432x288 with 1 Axes>"
      ]
     },
     "metadata": {
      "needs_background": "light"
     },
     "output_type": "display_data"
    },
    {
     "data": {
      "image/png": "[encoded data removed]",
      "text/plain": [
       "<Figure size 432x288 with 1 Axes>"
      ]
     },
     "metadata": {
      "needs_background": "light"
     },
     "output_type": "display_data"
    },
    {
     "data": {
      "image/png": "[encoded data removed]",
      "text/plain": [
       "<Figure size 432x288 with 1 Axes>"
      ]
     },
     "metadata": {
      "needs_background": "light"
     },
     "output_type": "display_data"
    }
   ],
   "source": [
    "import matplotlib.pyplot as plt\n",
    "%matplotlib inline\n",
    "\n",
    "plt.plot(range(len(train_loss)), train_loss, label=\"train loss\")\n",
    "plt.plot(range(len(valid_loss)), valid_loss, label=\"valid loss\")\n",
    "plt.legend()\n",
    "plt.title(\"Loss\")\n",
    "plt.show()\n",
    "\n",
    "plt.plot(range(len(train_acc)), train_acc, label=\"train accuracy\")\n",
    "plt.plot(range(len(valid_acc)), valid_acc, label=\"valid accuracy\")\n",
    "plt.legend()\n",
    "plt.title(\"Accuracy\")\n",
    "plt.show()\n",
    "\n",
    "plt.plot(range(len(valid_tp)), valid_tp, label=\"valid tp\", color=\"navy\")\n",
    "plt.plot(range(len(valid_tn)), valid_tn, label=\"valid tn\", color=\"red\")\n",
    "plt.legend()\n",
    "plt.title(\"True positives and True Negatives\")\n",
    "plt.show()\n"
   ]
  },
  {
   "cell_type": "code",
   "execution_count": null,
   "metadata": {},
   "outputs": [],
   "source": []
  }
 ],
 "metadata": {
  "kernelspec": {
   "display_name": "Python 3",
   "language": "python",
   "name": "python3"
  },
  "language_info": {
   "codemirror_mode": {
    "name": "ipython",
    "version": 3
   },
   "file_extension": ".py",
   "mimetype": "text/x-python",
   "name": "python",
   "nbconvert_exporter": "python",
   "pygments_lexer": "ipython3",
   "version": "3.7.3"
  }
 },
 "nbformat": 4,
 "nbformat_minor": 2
}
