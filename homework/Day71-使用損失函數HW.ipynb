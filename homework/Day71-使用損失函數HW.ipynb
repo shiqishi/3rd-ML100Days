{
 "cells": [
  {
   "cell_type": "markdown",
   "metadata": {
    "colab_type": "text",
    "id": "cj4tE8e8iUtO"
   },
   "source": [
    "#   \n",
    "\n",
    "# 作業目標:\n",
    "\n",
    "    1. 藉由固定的 dataset, 來驗證不同loss function\n",
    "    2. Dataset 的特性跟我們選用的loss function 對accrancy 的影響\n",
    "    \n",
    "    \n",
    "# 作業重點: \n",
    "    請分別選用 \"MSE\", \"binary _crossentropy\"\n",
    "    查看Train/test accurancy and loss rate\n",
    "    "
   ]
  },
  {
   "cell_type": "markdown",
   "metadata": {
    "colab_type": "text",
    "id": "R51J4KyyiUsL"
   },
   "source": [
    "# 導入必要的函數"
   ]
  },
  {
   "cell_type": "code",
   "execution_count": 3,
   "metadata": {
    "colab": {},
    "colab_type": "code",
    "id": "Qd68OQjciUsM"
   },
   "outputs": [
    {
     "name": "stderr",
     "output_type": "stream",
     "text": [
      "Using TensorFlow backend.\n"
     ]
    }
   ],
   "source": [
    "from keras.datasets import cifar10\n",
    "import numpy as np\n",
    "np.random.seed(10)"
   ]
  },
  {
   "cell_type": "markdown",
   "metadata": {
    "colab_type": "text",
    "id": "GxKuzQLQiUsP"
   },
   "source": [
    "# 資料準備"
   ]
  },
  {
   "cell_type": "code",
   "execution_count": 4,
   "metadata": {
    "colab": {},
    "colab_type": "code",
    "id": "MIbFZdTCiUsQ"
   },
   "outputs": [],
   "source": [
    "#取得Keras Dataset\n",
    "(x_img_train,y_label_train),(x_img_test,y_label_test)=cifar10.load_data()"
   ]
  },
  {
   "cell_type": "code",
   "execution_count": 5,
   "metadata": {
    "colab": {},
    "colab_type": "code",
    "id": "J8CJVjNOiUsS"
   },
   "outputs": [
    {
     "name": "stdout",
     "output_type": "stream",
     "text": [
      "train data: images: (50000, 32, 32, 3)  labels: (50000, 1)\n",
      "test  data: images: (10000, 32, 32, 3)  labels: (10000, 1)\n"
     ]
    }
   ],
   "source": [
    "#確認 CIFAR10 Dataset 資料維度\n",
    "print(\"train data:\",'images:',x_img_train.shape,\n",
    "      \" labels:\",y_label_train.shape) \n",
    "print(\"test  data:\",'images:',x_img_test.shape ,\n",
    "      \" labels:\",y_label_test.shape) "
   ]
  },
  {
   "cell_type": "code",
   "execution_count": 6,
   "metadata": {
    "colab": {},
    "colab_type": "code",
    "id": "V3P6P4DXiUsV"
   },
   "outputs": [],
   "source": [
    "#資料正規化\n",
    "x_img_train_normalize = x_img_train.astype('float32') / 255.0\n",
    "x_img_test_normalize = x_img_test.astype('float32') / 255.0"
   ]
  },
  {
   "cell_type": "code",
   "execution_count": 7,
   "metadata": {
    "colab": {},
    "colab_type": "code",
    "id": "vsDyjKYliUsX"
   },
   "outputs": [
    {
     "data": {
      "text/plain": [
       "(10000, 10)"
      ]
     },
     "execution_count": 7,
     "metadata": {},
     "output_type": "execute_result"
    }
   ],
   "source": [
    "#針對Label 做 ONE HOT ENCODE\n",
    "from keras.utils import np_utils\n",
    "y_label_train_OneHot = np_utils.to_categorical(y_label_train)\n",
    "y_label_test_OneHot = np_utils.to_categorical(y_label_test)\n",
    "y_label_test_OneHot.shape"
   ]
  },
  {
   "cell_type": "markdown",
   "metadata": {
    "colab_type": "text",
    "id": "RutW2OtgiUsZ"
   },
   "source": [
    "# 建立模型"
   ]
  },
  {
   "cell_type": "code",
   "execution_count": 8,
   "metadata": {
    "colab": {},
    "colab_type": "code",
    "id": "aHz592aXiUsa"
   },
   "outputs": [],
   "source": [
    "from tensorflow.keras.models import Sequential\n",
    "from tensorflow.keras.layers import Dense, Dropout, Activation, Flatten\n",
    "from tensorflow.keras.layers import Conv2D, MaxPooling2D, ZeroPadding2D"
   ]
  },
  {
   "cell_type": "code",
   "execution_count": 14,
   "metadata": {
    "colab": {},
    "colab_type": "code",
    "id": "hslqrIp0iUse"
   },
   "outputs": [],
   "source": [
    "model = Sequential()"
   ]
  },
  {
   "cell_type": "code",
   "execution_count": 10,
   "metadata": {
    "colab": {},
    "colab_type": "code",
    "id": "Hqe35hs2iUsi"
   },
   "outputs": [],
   "source": [
    "#卷積層1"
   ]
  },
  {
   "cell_type": "code",
   "execution_count": 15,
   "metadata": {
    "colab": {},
    "colab_type": "code",
    "id": "ED7dqe1YiUsm"
   },
   "outputs": [],
   "source": [
    "model.add(Conv2D(filters=32,kernel_size=(3,3),\n",
    "                 input_shape=(32, 32,3), \n",
    "                 activation='relu', \n",
    "                 padding='same'))"
   ]
  },
  {
   "cell_type": "code",
   "execution_count": 16,
   "metadata": {
    "colab": {},
    "colab_type": "code",
    "id": "n-GRKmPViUso"
   },
   "outputs": [],
   "source": [
    "model.add(Dropout(rate=0.25))"
   ]
  },
  {
   "cell_type": "code",
   "execution_count": 17,
   "metadata": {
    "colab": {},
    "colab_type": "code",
    "id": "GlWnnD1uiUsw"
   },
   "outputs": [],
   "source": [
    "model.add(MaxPooling2D(pool_size=(2, 2)))"
   ]
  },
  {
   "cell_type": "code",
   "execution_count": 18,
   "metadata": {
    "colab": {},
    "colab_type": "code",
    "id": "nawlkt55iUsy"
   },
   "outputs": [],
   "source": [
    "#卷積層2與池化層2"
   ]
  },
  {
   "cell_type": "code",
   "execution_count": 19,
   "metadata": {
    "colab": {},
    "colab_type": "code",
    "id": "xxyETiKNiUs1"
   },
   "outputs": [],
   "source": [
    "model.add(Conv2D(filters=64, kernel_size=(3, 3), \n",
    "                 activation='relu', padding='same'))"
   ]
  },
  {
   "cell_type": "code",
   "execution_count": 20,
   "metadata": {
    "colab": {},
    "colab_type": "code",
    "id": "RqcKWtqGiUs2"
   },
   "outputs": [],
   "source": [
    "model.add(Dropout(0.25))"
   ]
  },
  {
   "cell_type": "code",
   "execution_count": 21,
   "metadata": {
    "colab": {},
    "colab_type": "code",
    "id": "BUOOzlqfiUs4"
   },
   "outputs": [],
   "source": [
    "model.add(MaxPooling2D(pool_size=(2, 2)))"
   ]
  },
  {
   "cell_type": "code",
   "execution_count": 22,
   "metadata": {
    "colab": {},
    "colab_type": "code",
    "id": "LpkppB2siUs7"
   },
   "outputs": [],
   "source": [
    "#建立神經網路(平坦層、隱藏層、輸出層)"
   ]
  },
  {
   "cell_type": "code",
   "execution_count": 23,
   "metadata": {
    "colab": {},
    "colab_type": "code",
    "id": "UQOfU54_iUs_"
   },
   "outputs": [],
   "source": [
    "model.add(Flatten())\n",
    "model.add(Dropout(rate=0.25))"
   ]
  },
  {
   "cell_type": "code",
   "execution_count": 24,
   "metadata": {
    "colab": {},
    "colab_type": "code",
    "id": "_NV-8sq4iUtD"
   },
   "outputs": [],
   "source": [
    "model.add(Dense(1024, activation='relu'))\n",
    "model.add(Dropout(rate=0.25))"
   ]
  },
  {
   "cell_type": "code",
   "execution_count": 25,
   "metadata": {
    "colab": {},
    "colab_type": "code",
    "id": "qVK77krOiUtF"
   },
   "outputs": [],
   "source": [
    "model.add(Dense(10, activation='softmax'))"
   ]
  },
  {
   "cell_type": "code",
   "execution_count": 26,
   "metadata": {
    "colab": {},
    "colab_type": "code",
    "id": "ZxzRIjR0iUtH"
   },
   "outputs": [
    {
     "name": "stdout",
     "output_type": "stream",
     "text": [
      "Model: \"sequential_3\"\n",
      "_________________________________________________________________\n",
      "Layer (type)                 Output Shape              Param #   \n",
      "=================================================================\n",
      "conv2d_6 (Conv2D)            (None, 32, 32, 32)        896       \n",
      "_________________________________________________________________\n",
      "dropout_12 (Dropout)         (None, 32, 32, 32)        0         \n",
      "_________________________________________________________________\n",
      "max_pooling2d_6 (MaxPooling2 (None, 16, 16, 32)        0         \n",
      "_________________________________________________________________\n",
      "conv2d_7 (Conv2D)            (None, 16, 16, 64)        18496     \n",
      "_________________________________________________________________\n",
      "dropout_13 (Dropout)         (None, 16, 16, 64)        0         \n",
      "_________________________________________________________________\n",
      "max_pooling2d_7 (MaxPooling2 (None, 8, 8, 64)          0         \n",
      "_________________________________________________________________\n",
      "flatten_3 (Flatten)          (None, 4096)              0         \n",
      "_________________________________________________________________\n",
      "dropout_14 (Dropout)         (None, 4096)              0         \n",
      "_________________________________________________________________\n",
      "dense_5 (Dense)              (None, 1024)              4195328   \n",
      "_________________________________________________________________\n",
      "dropout_15 (Dropout)         (None, 1024)              0         \n",
      "_________________________________________________________________\n",
      "dense_6 (Dense)              (None, 10)                10250     \n",
      "=================================================================\n",
      "Total params: 4,224,970\n",
      "Trainable params: 4,224,970\n",
      "Non-trainable params: 0\n",
      "_________________________________________________________________\n",
      "None\n"
     ]
    }
   ],
   "source": [
    "#檢查model 的STACK\n",
    "print(model.summary())"
   ]
  },
  {
   "cell_type": "markdown",
   "metadata": {
    "colab_type": "text",
    "id": "QJCtpJM0iUtJ"
   },
   "source": [
    "# 載入之前訓練的模型"
   ]
  },
  {
   "cell_type": "code",
   "execution_count": 27,
   "metadata": {
    "colab": {},
    "colab_type": "code",
    "id": "JU3A6NzQiUtK"
   },
   "outputs": [
    {
     "name": "stdout",
     "output_type": "stream",
     "text": [
      "載入模型失敗!開始訓練一個新模型\n"
     ]
    }
   ],
   "source": [
    "try:\n",
    "    model.load_weights(\"SaveModel/cifarCnnModel.h5\")\n",
    "    print(\"載入模型成功!繼續訓練模型\")\n",
    "except :    \n",
    "    print(\"載入模型失敗!開始訓練一個新模型\")"
   ]
  },
  {
   "cell_type": "markdown",
   "metadata": {
    "colab_type": "text",
    "id": "qBbCuziziUtM"
   },
   "source": [
    "# 訓練模型"
   ]
  },
  {
   "cell_type": "code",
   "execution_count": 28,
   "metadata": {
    "colab": {},
    "colab_type": "code",
    "id": "Q6BiBcseiUtP",
    "scrolled": false
   },
   "outputs": [
    {
     "name": "stdout",
     "output_type": "stream",
     "text": [
      "Train on 37500 samples, validate on 12500 samples\n",
      "Epoch 1/12\n",
      "37500/37500 [==============================] - 128s 3ms/sample - loss: 2.3078 - accuracy: 0.1109 - val_loss: 2.2880 - val_accuracy: 0.1513\n",
      "Epoch 2/12\n",
      "37500/37500 [==============================] - 131s 4ms/sample - loss: 2.2786 - accuracy: 0.1395 - val_loss: 2.2742 - val_accuracy: 0.1878\n",
      "Epoch 3/12\n",
      "37500/37500 [==============================] - 135s 4ms/sample - loss: 2.2578 - accuracy: 0.1566 - val_loss: 2.2579 - val_accuracy: 0.2129\n",
      "Epoch 4/12\n",
      "37500/37500 [==============================] - 124s 3ms/sample - loss: 2.2319 - accuracy: 0.1800 - val_loss: 2.2360 - val_accuracy: 0.2475\n",
      "Epoch 5/12\n",
      "37500/37500 [==============================] - 134s 4ms/sample - loss: 2.1963 - accuracy: 0.2028 - val_loss: 2.2064 - val_accuracy: 0.2710\n",
      "Epoch 6/12\n",
      "37500/37500 [==============================] - 141s 4ms/sample - loss: 2.1516 - accuracy: 0.2203 - val_loss: 2.1675 - val_accuracy: 0.2852\n",
      "Epoch 7/12\n",
      "37500/37500 [==============================] - 125s 3ms/sample - loss: 2.1045 - accuracy: 0.2387 - val_loss: 2.1291 - val_accuracy: 0.2951\n",
      "Epoch 8/12\n",
      "37500/37500 [==============================] - 120s 3ms/sample - loss: 2.0641 - accuracy: 0.2499 - val_loss: 2.0911 - val_accuracy: 0.3031\n",
      "Epoch 9/12\n",
      "37500/37500 [==============================] - 119s 3ms/sample - loss: 2.0300 - accuracy: 0.2641 - val_loss: 2.0634 - val_accuracy: 0.3154\n",
      "Epoch 10/12\n",
      "37500/37500 [==============================] - 122s 3ms/sample - loss: 2.0050 - accuracy: 0.2741 - val_loss: 2.0392 - val_accuracy: 0.3161\n",
      "Epoch 11/12\n",
      "37500/37500 [==============================] - 120s 3ms/sample - loss: 1.9855 - accuracy: 0.2830 - val_loss: 2.0207 - val_accuracy: 0.3234\n",
      "Epoch 12/12\n",
      "37500/37500 [==============================] - 120s 3ms/sample - loss: 1.9663 - accuracy: 0.2931 - val_loss: 2.0073 - val_accuracy: 0.3288\n"
     ]
    },
    {
     "data": {
      "text/plain": [
       "'\\n作業:\\n請分別選用 \"MSE\", \"binary _crossentropy\"\\n查看Train/test accurancy and loss rate\\n'"
      ]
     },
     "execution_count": 28,
     "metadata": {},
     "output_type": "execute_result"
    }
   ],
   "source": [
    "model.compile(loss='categorical_crossentropy', optimizer='sgd', metrics=['accuracy'])\n",
    "train_history=model.fit(x_img_train_normalize, y_label_train_OneHot,\n",
    "                        validation_split=0.25,\n",
    "                        epochs=12, batch_size=128, verbose=1) \n",
    "'''\n",
    "作業:\n",
    "請分別選用 \"MSE\", \"binary _crossentropy\"\n",
    "查看Train/test accurancy and loss rate\n",
    "'''"
   ]
  },
  {
   "cell_type": "code",
   "execution_count": 9,
   "metadata": {
    "colab": {},
    "colab_type": "code",
    "id": "4-GdDgmQiUtS"
   },
   "outputs": [
    {
     "name": "stdout",
     "output_type": "stream",
     "text": [
      "Train on 37500 samples, validate on 12500 samples\n",
      "Epoch 1/12\n",
      "37500/37500 [==============================] - 136s 4ms/sample - loss: 0.0703 - accuracy: 0.4262 - val_loss: 0.0623 - val_accuracy: 0.5462\n",
      "Epoch 2/12\n",
      "37500/37500 [==============================] - 125s 3ms/sample - loss: 0.0558 - accuracy: 0.5746 - val_loss: 0.0545 - val_accuracy: 0.6121\n",
      "Epoch 3/12\n",
      "37500/37500 [==============================] - 121s 3ms/sample - loss: 0.0500 - accuracy: 0.6277 - val_loss: 0.0520 - val_accuracy: 0.6282\n",
      "Epoch 4/12\n",
      "37500/37500 [==============================] - 121s 3ms/sample - loss: 0.0455 - accuracy: 0.6651 - val_loss: 0.0473 - val_accuracy: 0.6660\n",
      "Epoch 5/12\n",
      "37500/37500 [==============================] - 119s 3ms/sample - loss: 0.0421 - accuracy: 0.6919 - val_loss: 0.0464 - val_accuracy: 0.6770\n",
      "Epoch 6/12\n",
      "37500/37500 [==============================] - 118s 3ms/sample - loss: 0.0387 - accuracy: 0.7202 - val_loss: 0.0439 - val_accuracy: 0.6860\n",
      "Epoch 7/12\n",
      "37500/37500 [==============================] - 122s 3ms/sample - loss: 0.0358 - accuracy: 0.7466 - val_loss: 0.0419 - val_accuracy: 0.7025\n",
      "Epoch 8/12\n",
      "37500/37500 [==============================] - 138s 4ms/sample - loss: 0.0332 - accuracy: 0.7669 - val_loss: 0.0410 - val_accuracy: 0.7079\n",
      "Epoch 9/12\n",
      "37500/37500 [==============================] - 142s 4ms/sample - loss: 0.0306 - accuracy: 0.7857 - val_loss: 0.0397 - val_accuracy: 0.7202\n",
      "Epoch 10/12\n",
      "37500/37500 [==============================] - 128s 3ms/sample - loss: 0.0282 - accuracy: 0.8047 - val_loss: 0.0384 - val_accuracy: 0.7258\n",
      "Epoch 11/12\n",
      "37500/37500 [==============================] - 129s 3ms/sample - loss: 0.0256 - accuracy: 0.8241 - val_loss: 0.0373 - val_accuracy: 0.7358\n",
      "Epoch 12/12\n",
      "37500/37500 [==============================] - 132s 4ms/sample - loss: 0.0235 - accuracy: 0.8393 - val_loss: 0.0375 - val_accuracy: 0.7326\n"
     ]
    }
   ],
   "source": [
    "# 宣告採用序列模型\n",
    "model_MSE= Sequential()\n",
    "#卷積層1與池化層1\n",
    "model_MSE.add(Conv2D(filters=32,kernel_size=(3,3),\n",
    "                 input_shape=(32, 32,3), \n",
    "                 activation='relu', \n",
    "                 padding='same'))\n",
    "model_MSE.add(Dropout(rate=0.25))\n",
    "model_MSE.add(MaxPooling2D(pool_size=(2, 2)))\n",
    "#卷積層2與池化層2\n",
    "model_MSE.add(Conv2D(filters=64, kernel_size=(3, 3), \n",
    "                 activation='relu', padding='same'))\n",
    "model_MSE.add(Dropout(0.25))\n",
    "model_MSE.add(MaxPooling2D(pool_size=(2, 2)))\n",
    "#建立神經網路(平坦層、隱藏層、輸出層)\n",
    "model_MSE.add(Flatten())\n",
    "model_MSE.add(Dropout(0.25))\n",
    "#建立全網路連接層\n",
    "model_MSE.add(Dense(1024, activation='relu'))\n",
    "model_MSE.add(Dropout(0.25))\n",
    "#建立輸出層\n",
    "model_MSE.add(Dense(10, activation='softmax'))\n",
    "#檢查model 的STACK\n",
    "model_MSE.compile(loss='MSE', optimizer='Adam', metrics=['accuracy'])\n",
    "train_history_MSE=model_MSE.fit(x_img_train_normalize, y_label_train_OneHot,\n",
    "                        validation_split=0.25,\n",
    "                        epochs=12, batch_size=128, verbose=1) "
   ]
  },
  {
   "cell_type": "code",
   "execution_count": 11,
   "metadata": {},
   "outputs": [
    {
     "name": "stdout",
     "output_type": "stream",
     "text": [
      "Train on 37500 samples, validate on 12500 samples\n",
      "Epoch 1/12\n",
      "37500/37500 [==============================] - 132s 4ms/sample - loss: 0.2420 - accuracy: 0.9096 - val_loss: 0.2177 - val_accuracy: 0.9128\n",
      "Epoch 2/12\n",
      "37500/37500 [==============================] - 134s 4ms/sample - loss: 0.1925 - accuracy: 0.9243 - val_loss: 0.1939 - val_accuracy: 0.9239\n",
      "Epoch 3/12\n",
      "37500/37500 [==============================] - 124s 3ms/sample - loss: 0.1694 - accuracy: 0.9335 - val_loss: 0.1717 - val_accuracy: 0.9325\n",
      "Epoch 4/12\n",
      "37500/37500 [==============================] - 126s 3ms/sample - loss: 0.1517 - accuracy: 0.9405 - val_loss: 0.1640 - val_accuracy: 0.9371\n",
      "Epoch 5/12\n",
      "37500/37500 [==============================] - 140s 4ms/sample - loss: 0.1351 - accuracy: 0.9467 - val_loss: 0.1520 - val_accuracy: 0.9412\n",
      "Epoch 6/12\n",
      "37500/37500 [==============================] - 125s 3ms/sample - loss: 0.1220 - accuracy: 0.9519 - val_loss: 0.1444 - val_accuracy: 0.9445\n",
      "Epoch 7/12\n",
      "37500/37500 [==============================] - 129s 3ms/sample - loss: 0.1098 - accuracy: 0.9576 - val_loss: 0.1383 - val_accuracy: 0.9460\n",
      "Epoch 8/12\n",
      "37500/37500 [==============================] - 154s 4ms/sample - loss: 0.0984 - accuracy: 0.9620 - val_loss: 0.1345 - val_accuracy: 0.9477\n",
      "Epoch 9/12\n",
      "37500/37500 [==============================] - 137s 4ms/sample - loss: 0.0873 - accuracy: 0.9664 - val_loss: 0.1282 - val_accuracy: 0.9504\n",
      "Epoch 10/12\n",
      "37500/37500 [==============================] - 140s 4ms/sample - loss: 0.0770 - accuracy: 0.9704 - val_loss: 0.1333 - val_accuracy: 0.9483\n",
      "Epoch 11/12\n",
      "37500/37500 [==============================] - 128s 3ms/sample - loss: 0.0687 - accuracy: 0.9738 - val_loss: 0.1300 - val_accuracy: 0.9506\n",
      "Epoch 12/12\n",
      "37500/37500 [==============================] - 124s 3ms/sample - loss: 0.0597 - accuracy: 0.9773 - val_loss: 0.1283 - val_accuracy: 0.9510\n"
     ]
    }
   ],
   "source": [
    "# 宣告採用序列模型\n",
    "model_bin= Sequential()\n",
    "#卷積層1與池化層1\n",
    "model_bin.add(Conv2D(filters=32,kernel_size=(3,3),\n",
    "                 input_shape=(32, 32,3), \n",
    "                 activation='relu', \n",
    "                 padding='same'))\n",
    "model_bin.add(Dropout(rate=0.25))\n",
    "model_bin.add(MaxPooling2D(pool_size=(2, 2)))\n",
    "#卷積層2與池化層2\n",
    "model_bin.add(Conv2D(filters=64, kernel_size=(3, 3), \n",
    "                 activation='relu', padding='same'))\n",
    "model_bin.add(Dropout(0.25))\n",
    "model_bin.add(MaxPooling2D(pool_size=(2, 2)))\n",
    "#建立神經網路(平坦層、隱藏層、輸出層)\n",
    "model_bin.add(Flatten())\n",
    "model_bin.add(Dropout(0.25))\n",
    "#建立全網路連接層\n",
    "model_bin.add(Dense(1024, activation='relu'))\n",
    "model_bin.add(Dropout(0.25))\n",
    "#建立輸出層\n",
    "model_bin.add(Dense(10, activation='softmax'))\n",
    "#檢查model 的STACK\n",
    "model_bin.compile(loss='binary_crossentropy', optimizer='Adam', metrics=['accuracy'])\n",
    "train_history_bin=model_bin.fit(x_img_train_normalize, y_label_train_OneHot,\n",
    "                        validation_split=0.25,\n",
    "                        epochs=12, batch_size=128, verbose=1) "
   ]
  },
  {
   "cell_type": "code",
   "execution_count": 30,
   "metadata": {},
   "outputs": [
    {
     "data": {
      "image/png": "[encoded data removed]",
      "text/plain": [
       "<Figure size 432x288 with 1 Axes>"
      ]
     },
     "metadata": {
      "needs_background": "light"
     },
     "output_type": "display_data"
    }
   ],
   "source": [
    "import matplotlib.pyplot as plt\n",
    "%matplotlib inline\n",
    "plt.plot(train_history.history['accuracy'])\n",
    "plt.plot(train_history_MSE.history['accuracy'])\n",
    "plt.plot(train_history_bin.history['accuracy'])\n",
    "plt.title('Train History')\n",
    "plt.ylabel('accuracy')\n",
    "plt.xlabel('Epoch')\n",
    "plt.legend(['categorical_crossentropy', 'MSE','binary_crossentropy'], loc='upper left')\n",
    "plt.show()"
   ]
  },
  {
   "cell_type": "code",
   "execution_count": 31,
   "metadata": {
    "scrolled": true
   },
   "outputs": [
    {
     "data": {
      "image/png": "[encoded data removed]",
      "text/plain": [
       "<Figure size 432x288 with 1 Axes>"
      ]
     },
     "metadata": {
      "needs_background": "light"
     },
     "output_type": "display_data"
    }
   ],
   "source": [
    "import matplotlib.pyplot as plt\n",
    "%matplotlib inline\n",
    "plt.plot(train_history.history['accuracy'])\n",
    "plt.plot(train_history_MSE.history['val_accuracy'])\n",
    "plt.plot(train_history_bin.history['val_accuracy'])\n",
    "plt.title('Train History')\n",
    "plt.ylabel('val_accuracy')\n",
    "plt.xlabel('Epoch')\n",
    "plt.legend(['categorical_crossentropy', 'MSE','binary_crossentropy'], loc='upper left')\n",
    "plt.show()"
   ]
  },
  {
   "cell_type": "code",
   "execution_count": null,
   "metadata": {},
   "outputs": [],
   "source": []
  }
 ],
 "metadata": {
  "colab": {
   "name": "Day71-使用損失函數_HW.ipynb",
   "provenance": [],
   "version": "0.3.2"
  },
  "kernelspec": {
   "display_name": "Python 3",
   "language": "python",
   "name": "python3"
  }
 },
 "nbformat": 4,
 "nbformat_minor": 1
}
