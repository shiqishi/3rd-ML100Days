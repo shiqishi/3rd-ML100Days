{
 "cells": [
  {
   "cell_type": "markdown",
   "metadata": {},
   "source": [
    "# [作業目標]\n",
    "- 對資料做更多處理 : 顯示特定欄位的統計值與直方圖"
   ]
  },
  {
   "cell_type": "markdown",
   "metadata": {},
   "source": [
    "# [作業重點]\n",
    "- 試著顯示特定欄位的基礎統計數值 (In[4], Out[4], Hint : describe())\n",
    "- 試著顯示特定欄位的直方圖 (In[5], Out[5], Hint : .hist())"
   ]
  },
  {
   "cell_type": "code",
   "execution_count": 1,
   "metadata": {},
   "outputs": [],
   "source": [
    "# Import 需要的套件\n",
    "import os\n",
    "import numpy as np\n",
    "import pandas as pd\n",
    "\n",
    "# 設定 data_path\n",
    "dir_data = './data/'"
   ]
  },
  {
   "cell_type": "code",
   "execution_count": 2,
   "metadata": {},
   "outputs": [],
   "source": [
    "f_app_train = os.path.join(dir_data, 'application_train.csv')\n",
    "app_train = pd.read_csv(f_app_train)"
   ]
  },
  {
   "cell_type": "code",
   "execution_count": 3,
   "metadata": {},
   "outputs": [],
   "source": [
    "import matplotlib.pyplot as plt\n",
    "%matplotlib inline"
   ]
  },
  {
   "cell_type": "markdown",
   "metadata": {},
   "source": [
    "## 練習時間"
   ]
  },
  {
   "cell_type": "markdown",
   "metadata": {},
   "source": [
    "觀察有興趣的欄位的資料分佈，並嘗試找出有趣的訊息\n",
    "#### Eg\n",
    "- 計算任意欄位的平均數及標準差\n",
    "- 畫出任意欄位的[直方圖](https://zh.wikipedia.org/zh-tw/%E7%9B%B4%E6%96%B9%E5%9B%BE)\n",
    "\n",
    "### Hints:\n",
    "- [Descriptive Statistics For pandas Dataframe](https://chrisalbon.com/python/data_wrangling/pandas_dataframe_descriptive_stats/)\n",
    "- [pandas 中的繪圖函數](https://amaozhao.gitbooks.io/pandas-notebook/content/pandas%E4%B8%AD%E7%9A%84%E7%BB%98%E5%9B%BE%E5%87%BD%E6%95%B0.html)\n"
   ]
  },
  {
   "cell_type": "code",
   "execution_count": 4,
   "metadata": {
    "scrolled": true
   },
   "outputs": [
    {
     "data": {
      "text/html": [
       "<div>\n",
       "<style scoped>\n",
       "    .dataframe tbody tr th:only-of-type {\n",
       "        vertical-align: middle;\n",
       "    }\n",
       "\n",
       "    .dataframe tbody tr th {\n",
       "        vertical-align: top;\n",
       "    }\n",
       "\n",
       "    .dataframe thead th {\n",
       "        text-align: right;\n",
       "    }\n",
       "</style>\n",
       "<table border=\"1\" class=\"dataframe\">\n",
       "  <thead>\n",
       "    <tr style=\"text-align: right;\">\n",
       "      <th></th>\n",
       "      <th>count</th>\n",
       "      <th>column type</th>\n",
       "    </tr>\n",
       "  </thead>\n",
       "  <tbody>\n",
       "    <tr>\n",
       "      <th>0</th>\n",
       "      <td>SK_ID_CURR</td>\n",
       "      <td>int64</td>\n",
       "    </tr>\n",
       "    <tr>\n",
       "      <th>1</th>\n",
       "      <td>TARGET</td>\n",
       "      <td>int64</td>\n",
       "    </tr>\n",
       "    <tr>\n",
       "      <th>2</th>\n",
       "      <td>NAME_CONTRACT_TYPE</td>\n",
       "      <td>object</td>\n",
       "    </tr>\n",
       "    <tr>\n",
       "      <th>3</th>\n",
       "      <td>CODE_GENDER</td>\n",
       "      <td>object</td>\n",
       "    </tr>\n",
       "    <tr>\n",
       "      <th>4</th>\n",
       "      <td>FLAG_OWN_CAR</td>\n",
       "      <td>object</td>\n",
       "    </tr>\n",
       "  </tbody>\n",
       "</table>\n",
       "</div>"
      ],
      "text/plain": [
       "                count column type\n",
       "0          SK_ID_CURR       int64\n",
       "1              TARGET       int64\n",
       "2  NAME_CONTRACT_TYPE      object\n",
       "3         CODE_GENDER      object\n",
       "4        FLAG_OWN_CAR      object"
      ]
     },
     "execution_count": 4,
     "metadata": {},
     "output_type": "execute_result"
    }
   ],
   "source": [
    "dtype_df=app_train.dtypes.reset_index()\n",
    "dtype_df.columns = [\"count\", \"column type\"]\n",
    "dtype_df.head()"
   ]
  },
  {
   "cell_type": "code",
   "execution_count": 5,
   "metadata": {
    "scrolled": true
   },
   "outputs": [
    {
     "data": {
      "text/html": [
       "<div>\n",
       "<style scoped>\n",
       "    .dataframe tbody tr th:only-of-type {\n",
       "        vertical-align: middle;\n",
       "    }\n",
       "\n",
       "    .dataframe tbody tr th {\n",
       "        vertical-align: top;\n",
       "    }\n",
       "\n",
       "    .dataframe thead th {\n",
       "        text-align: right;\n",
       "    }\n",
       "</style>\n",
       "<table border=\"1\" class=\"dataframe\">\n",
       "  <thead>\n",
       "    <tr style=\"text-align: right;\">\n",
       "      <th></th>\n",
       "      <th>column type</th>\n",
       "      <th>count</th>\n",
       "    </tr>\n",
       "  </thead>\n",
       "  <tbody>\n",
       "    <tr>\n",
       "      <th>0</th>\n",
       "      <td>int64</td>\n",
       "      <td>41</td>\n",
       "    </tr>\n",
       "    <tr>\n",
       "      <th>1</th>\n",
       "      <td>float64</td>\n",
       "      <td>65</td>\n",
       "    </tr>\n",
       "    <tr>\n",
       "      <th>2</th>\n",
       "      <td>object</td>\n",
       "      <td>16</td>\n",
       "    </tr>\n",
       "  </tbody>\n",
       "</table>\n",
       "</div>"
      ],
      "text/plain": [
       "  column type  count\n",
       "0       int64     41\n",
       "1     float64     65\n",
       "2      object     16"
      ]
     },
     "execution_count": 5,
     "metadata": {},
     "output_type": "execute_result"
    }
   ],
   "source": [
    "dtype_sum_df=dtype_df.groupby('column type').aggregate('count').reset_index()\n",
    "dtype_sum_df"
   ]
  },
  {
   "cell_type": "code",
   "execution_count": 6,
   "metadata": {},
   "outputs": [
    {
     "data": {
      "text/plain": [
       "106"
      ]
     },
     "execution_count": 6,
     "metadata": {},
     "output_type": "execute_result"
    }
   ],
   "source": [
    "features_num=[]\n",
    "for c,t in zip(dtype_df['count'],dtype_df['column type']):\n",
    "    if t=='int64' or t=='float64':\n",
    "        features_num.append(c)\n",
    "len(features_num)"
   ]
  },
  {
   "cell_type": "code",
   "execution_count": 7,
   "metadata": {},
   "outputs": [
    {
     "name": "stdout",
     "output_type": "stream",
     "text": [
      "資料的數值型屬性的平均值是：\n",
      "SK_ID_CURR                     278180.518577\n",
      "TARGET                              0.080729\n",
      "CNT_CHILDREN                        0.417052\n",
      "AMT_INCOME_TOTAL               168797.919297\n",
      "AMT_CREDIT                     599025.999706\n",
      "AMT_ANNUITY                     27108.573909\n",
      "AMT_GOODS_PRICE                538396.207429\n",
      "REGION_POPULATION_RELATIVE          0.020868\n",
      "DAYS_BIRTH                     -16036.995067\n",
      "DAYS_EMPLOYED                   63815.045904\n",
      "DAYS_REGISTRATION               -4986.120328\n",
      "DAYS_ID_PUBLISH                 -2994.202373\n",
      "OWN_CAR_AGE                        12.061091\n",
      "FLAG_MOBIL                          0.999997\n",
      "FLAG_EMP_PHONE                      0.819889\n",
      "FLAG_WORK_PHONE                     0.199368\n",
      "FLAG_CONT_MOBILE                    0.998133\n",
      "FLAG_PHONE                          0.281066\n",
      "FLAG_EMAIL                          0.056720\n",
      "CNT_FAM_MEMBERS                     2.152665\n",
      "REGION_RATING_CLIENT                2.052463\n",
      "REGION_RATING_CLIENT_W_CITY         2.031521\n",
      "HOUR_APPR_PROCESS_START            12.063419\n",
      "REG_REGION_NOT_LIVE_REGION          0.015144\n",
      "REG_REGION_NOT_WORK_REGION          0.050769\n",
      "LIVE_REGION_NOT_WORK_REGION         0.040659\n",
      "REG_CITY_NOT_LIVE_CITY              0.078173\n",
      "REG_CITY_NOT_WORK_CITY              0.230454\n",
      "LIVE_CITY_NOT_WORK_CITY             0.179555\n",
      "EXT_SOURCE_1                        0.502130\n",
      "                                   ...      \n",
      "DEF_30_CNT_SOCIAL_CIRCLE            0.143421\n",
      "OBS_60_CNT_SOCIAL_CIRCLE            1.405292\n",
      "DEF_60_CNT_SOCIAL_CIRCLE            0.100049\n",
      "DAYS_LAST_PHONE_CHANGE           -962.858788\n",
      "FLAG_DOCUMENT_2                     0.000042\n",
      "FLAG_DOCUMENT_3                     0.710023\n",
      "FLAG_DOCUMENT_4                     0.000081\n",
      "FLAG_DOCUMENT_5                     0.015115\n",
      "FLAG_DOCUMENT_6                     0.088055\n",
      "FLAG_DOCUMENT_7                     0.000192\n",
      "FLAG_DOCUMENT_8                     0.081376\n",
      "FLAG_DOCUMENT_9                     0.003896\n",
      "FLAG_DOCUMENT_10                    0.000023\n",
      "FLAG_DOCUMENT_11                    0.003912\n",
      "FLAG_DOCUMENT_12                    0.000007\n",
      "FLAG_DOCUMENT_13                    0.003525\n",
      "FLAG_DOCUMENT_14                    0.002936\n",
      "FLAG_DOCUMENT_15                    0.001210\n",
      "FLAG_DOCUMENT_16                    0.009928\n",
      "FLAG_DOCUMENT_17                    0.000267\n",
      "FLAG_DOCUMENT_18                    0.008130\n",
      "FLAG_DOCUMENT_19                    0.000595\n",
      "FLAG_DOCUMENT_20                    0.000507\n",
      "FLAG_DOCUMENT_21                    0.000335\n",
      "AMT_REQ_CREDIT_BUREAU_HOUR          0.006402\n",
      "AMT_REQ_CREDIT_BUREAU_DAY           0.007000\n",
      "AMT_REQ_CREDIT_BUREAU_WEEK          0.034362\n",
      "AMT_REQ_CREDIT_BUREAU_MON           0.267395\n",
      "AMT_REQ_CREDIT_BUREAU_QRT           0.265474\n",
      "AMT_REQ_CREDIT_BUREAU_YEAR          1.899974\n",
      "Length: 106, dtype: float64\n"
     ]
    }
   ],
   "source": [
    "print(f'資料的數值型屬性的平均值是：\\n{app_train[features_num].mean()}')"
   ]
  },
  {
   "cell_type": "code",
   "execution_count": 8,
   "metadata": {},
   "outputs": [
    {
     "name": "stdout",
     "output_type": "stream",
     "text": [
      "資料的數值型屬性的標準差是：\n",
      "SK_ID_CURR                     102790.175348\n",
      "TARGET                              0.272419\n",
      "CNT_CHILDREN                        0.722121\n",
      "AMT_INCOME_TOTAL               237123.146279\n",
      "AMT_CREDIT                     402490.776996\n",
      "AMT_ANNUITY                     14493.737315\n",
      "AMT_GOODS_PRICE                369446.460540\n",
      "REGION_POPULATION_RELATIVE          0.013831\n",
      "DAYS_BIRTH                       4363.988632\n",
      "DAYS_EMPLOYED                  141275.766519\n",
      "DAYS_REGISTRATION                3522.886321\n",
      "DAYS_ID_PUBLISH                  1509.450419\n",
      "OWN_CAR_AGE                        11.944812\n",
      "FLAG_MOBIL                          0.001803\n",
      "FLAG_EMP_PHONE                      0.384280\n",
      "FLAG_WORK_PHONE                     0.399526\n",
      "FLAG_CONT_MOBILE                    0.043164\n",
      "FLAG_PHONE                          0.449521\n",
      "FLAG_EMAIL                          0.231307\n",
      "CNT_FAM_MEMBERS                     0.910682\n",
      "REGION_RATING_CLIENT                0.509034\n",
      "REGION_RATING_CLIENT_W_CITY         0.502737\n",
      "HOUR_APPR_PROCESS_START             3.265832\n",
      "REG_REGION_NOT_LIVE_REGION          0.122126\n",
      "REG_REGION_NOT_WORK_REGION          0.219526\n",
      "LIVE_REGION_NOT_WORK_REGION         0.197499\n",
      "REG_CITY_NOT_LIVE_CITY              0.268444\n",
      "REG_CITY_NOT_WORK_CITY              0.421124\n",
      "LIVE_CITY_NOT_WORK_CITY             0.383817\n",
      "EXT_SOURCE_1                        0.211062\n",
      "                                   ...      \n",
      "DEF_30_CNT_SOCIAL_CIRCLE            0.446698\n",
      "OBS_60_CNT_SOCIAL_CIRCLE            2.379803\n",
      "DEF_60_CNT_SOCIAL_CIRCLE            0.362291\n",
      "DAYS_LAST_PHONE_CHANGE            826.808487\n",
      "FLAG_DOCUMENT_2                     0.006502\n",
      "FLAG_DOCUMENT_3                     0.453752\n",
      "FLAG_DOCUMENT_4                     0.009016\n",
      "FLAG_DOCUMENT_5                     0.122010\n",
      "FLAG_DOCUMENT_6                     0.283376\n",
      "FLAG_DOCUMENT_7                     0.013850\n",
      "FLAG_DOCUMENT_8                     0.273412\n",
      "FLAG_DOCUMENT_9                     0.062295\n",
      "FLAG_DOCUMENT_10                    0.004771\n",
      "FLAG_DOCUMENT_11                    0.062424\n",
      "FLAG_DOCUMENT_12                    0.002550\n",
      "FLAG_DOCUMENT_13                    0.059268\n",
      "FLAG_DOCUMENT_14                    0.054110\n",
      "FLAG_DOCUMENT_15                    0.034760\n",
      "FLAG_DOCUMENT_16                    0.099144\n",
      "FLAG_DOCUMENT_17                    0.016327\n",
      "FLAG_DOCUMENT_18                    0.089798\n",
      "FLAG_DOCUMENT_19                    0.024387\n",
      "FLAG_DOCUMENT_20                    0.022518\n",
      "FLAG_DOCUMENT_21                    0.018299\n",
      "AMT_REQ_CREDIT_BUREAU_HOUR          0.083849\n",
      "AMT_REQ_CREDIT_BUREAU_DAY           0.110757\n",
      "AMT_REQ_CREDIT_BUREAU_WEEK          0.204685\n",
      "AMT_REQ_CREDIT_BUREAU_MON           0.916002\n",
      "AMT_REQ_CREDIT_BUREAU_QRT           0.794056\n",
      "AMT_REQ_CREDIT_BUREAU_YEAR          1.869295\n",
      "Length: 106, dtype: float64\n"
     ]
    }
   ],
   "source": [
    "print(f'資料的數值型屬性的標準差是：\\n{app_train[features_num].std()}')"
   ]
  },
  {
   "cell_type": "code",
   "execution_count": 9,
   "metadata": {},
   "outputs": [
    {
     "name": "stdout",
     "output_type": "stream",
     "text": [
      "資料的數值型屬性的統計量是：\n",
      "          SK_ID_CURR         TARGET   CNT_CHILDREN  AMT_INCOME_TOTAL  \\\n",
      "count  307511.000000  307511.000000  307511.000000      3.075110e+05   \n",
      "mean   278180.518577       0.080729       0.417052      1.687979e+05   \n",
      "std    102790.175348       0.272419       0.722121      2.371231e+05   \n",
      "min    100002.000000       0.000000       0.000000      2.565000e+04   \n",
      "25%    189145.500000       0.000000       0.000000      1.125000e+05   \n",
      "50%    278202.000000       0.000000       0.000000      1.471500e+05   \n",
      "75%    367142.500000       0.000000       1.000000      2.025000e+05   \n",
      "max    456255.000000       1.000000      19.000000      1.170000e+08   \n",
      "\n",
      "         AMT_CREDIT    AMT_ANNUITY  AMT_GOODS_PRICE  \\\n",
      "count  3.075110e+05  307499.000000     3.072330e+05   \n",
      "mean   5.990260e+05   27108.573909     5.383962e+05   \n",
      "std    4.024908e+05   14493.737315     3.694465e+05   \n",
      "min    4.500000e+04    1615.500000     4.050000e+04   \n",
      "25%    2.700000e+05   16524.000000     2.385000e+05   \n",
      "50%    5.135310e+05   24903.000000     4.500000e+05   \n",
      "75%    8.086500e+05   34596.000000     6.795000e+05   \n",
      "max    4.050000e+06  258025.500000     4.050000e+06   \n",
      "\n",
      "       REGION_POPULATION_RELATIVE     DAYS_BIRTH  DAYS_EMPLOYED  ...  \\\n",
      "count               307511.000000  307511.000000  307511.000000  ...   \n",
      "mean                     0.020868  -16036.995067   63815.045904  ...   \n",
      "std                      0.013831    4363.988632  141275.766519  ...   \n",
      "min                      0.000290  -25229.000000  -17912.000000  ...   \n",
      "25%                      0.010006  -19682.000000   -2760.000000  ...   \n",
      "50%                      0.018850  -15750.000000   -1213.000000  ...   \n",
      "75%                      0.028663  -12413.000000    -289.000000  ...   \n",
      "max                      0.072508   -7489.000000  365243.000000  ...   \n",
      "\n",
      "       FLAG_DOCUMENT_18  FLAG_DOCUMENT_19  FLAG_DOCUMENT_20  FLAG_DOCUMENT_21  \\\n",
      "count     307511.000000     307511.000000     307511.000000     307511.000000   \n",
      "mean           0.008130          0.000595          0.000507          0.000335   \n",
      "std            0.089798          0.024387          0.022518          0.018299   \n",
      "min            0.000000          0.000000          0.000000          0.000000   \n",
      "25%            0.000000          0.000000          0.000000          0.000000   \n",
      "50%            0.000000          0.000000          0.000000          0.000000   \n",
      "75%            0.000000          0.000000          0.000000          0.000000   \n",
      "max            1.000000          1.000000          1.000000          1.000000   \n",
      "\n",
      "       AMT_REQ_CREDIT_BUREAU_HOUR  AMT_REQ_CREDIT_BUREAU_DAY  \\\n",
      "count               265992.000000              265992.000000   \n",
      "mean                     0.006402                   0.007000   \n",
      "std                      0.083849                   0.110757   \n",
      "min                      0.000000                   0.000000   \n",
      "25%                      0.000000                   0.000000   \n",
      "50%                      0.000000                   0.000000   \n",
      "75%                      0.000000                   0.000000   \n",
      "max                      4.000000                   9.000000   \n",
      "\n",
      "       AMT_REQ_CREDIT_BUREAU_WEEK  AMT_REQ_CREDIT_BUREAU_MON  \\\n",
      "count               265992.000000              265992.000000   \n",
      "mean                     0.034362                   0.267395   \n",
      "std                      0.204685                   0.916002   \n",
      "min                      0.000000                   0.000000   \n",
      "25%                      0.000000                   0.000000   \n",
      "50%                      0.000000                   0.000000   \n",
      "75%                      0.000000                   0.000000   \n",
      "max                      8.000000                  27.000000   \n",
      "\n",
      "       AMT_REQ_CREDIT_BUREAU_QRT  AMT_REQ_CREDIT_BUREAU_YEAR  \n",
      "count              265992.000000               265992.000000  \n",
      "mean                    0.265474                    1.899974  \n",
      "std                     0.794056                    1.869295  \n",
      "min                     0.000000                    0.000000  \n",
      "25%                     0.000000                    0.000000  \n",
      "50%                     0.000000                    1.000000  \n",
      "75%                     0.000000                    3.000000  \n",
      "max                   261.000000                   25.000000  \n",
      "\n",
      "[8 rows x 106 columns]\n"
     ]
    }
   ],
   "source": [
    "print(f'資料的數值型屬性的統計量是：\\n{app_train[features_num].describe()}')"
   ]
  },
  {
   "cell_type": "code",
   "execution_count": 10,
   "metadata": {},
   "outputs": [
    {
     "data": {
      "text/plain": [
       "<matplotlib.axes._subplots.AxesSubplot at 0xca00a4e2b0>"
      ]
     },
     "execution_count": 10,
     "metadata": {},
     "output_type": "execute_result"
    },
    {
     "data": {
      "image/png": "[encoded data removed]",
      "text/plain": [
       "<Figure size 432x288 with 1 Axes>"
      ]
     },
     "metadata": {
      "needs_background": "light"
     },
     "output_type": "display_data"
    }
   ],
   "source": [
    "app_train['SK_ID_CURR'].plot(kind='kde')"
   ]
  },
  {
   "cell_type": "code",
   "execution_count": 11,
   "metadata": {},
   "outputs": [
    {
     "data": {
      "text/plain": [
       "<matplotlib.axes._subplots.AxesSubplot at 0xca019a39b0>"
      ]
     },
     "execution_count": 11,
     "metadata": {},
     "output_type": "execute_result"
    },
    {
     "data": {
      "image/png": "[encoded data removed]",
      "text/plain": [
       "<Figure size 432x288 with 1 Axes>"
      ]
     },
     "metadata": {
      "needs_background": "light"
     },
     "output_type": "display_data"
    }
   ],
   "source": [
    "app_train[['SK_ID_CURR','DAYS_BIRTH']].plot(kind='hist',rwidth=0.8)"
   ]
  },
  {
   "cell_type": "code",
   "execution_count": 12,
   "metadata": {},
   "outputs": [
    {
     "data": {
      "text/plain": [
       "<matplotlib.axes._subplots.AxesSubplot at 0xca00ff8b00>"
      ]
     },
     "execution_count": 12,
     "metadata": {},
     "output_type": "execute_result"
    },
    {
     "data": {
      "image/png": "[encoded data removed]",
      "text/plain": [
       "<Figure size 432x288 with 1 Axes>"
      ]
     },
     "metadata": {
      "needs_background": "light"
     },
     "output_type": "display_data"
    }
   ],
   "source": [
    "app_train[['SK_ID_CURR','DAYS_BIRTH']].plot.hist(rwidth=0.8)"
   ]
  },
  {
   "cell_type": "code",
   "execution_count": 13,
   "metadata": {},
   "outputs": [
    {
     "data": {
      "text/plain": [
       "array([[<matplotlib.axes._subplots.AxesSubplot object at 0x000000CA01070898>,\n",
       "        <matplotlib.axes._subplots.AxesSubplot object at 0x000000CA010C7550>]],\n",
       "      dtype=object)"
      ]
     },
     "execution_count": 13,
     "metadata": {},
     "output_type": "execute_result"
    },
    {
     "data": {
      "image/png": "[encoded data removed]",
      "text/plain": [
       "<Figure size 432x288 with 2 Axes>"
      ]
     },
     "metadata": {
      "needs_background": "light"
     },
     "output_type": "display_data"
    }
   ],
   "source": [
    "app_train[['SK_ID_CURR','DAYS_BIRTH']].hist(rwidth=0.8)"
   ]
  },
  {
   "cell_type": "code",
   "execution_count": 14,
   "metadata": {},
   "outputs": [
    {
     "data": {
      "text/plain": [
       "<matplotlib.axes._subplots.AxesSubplot at 0xca01173780>"
      ]
     },
     "execution_count": 14,
     "metadata": {},
     "output_type": "execute_result"
    },
    {
     "data": {
      "image/png": "[encoded data removed]",
      "text/plain": [
       "<Figure size 432x288 with 1 Axes>"
      ]
     },
     "metadata": {
      "needs_background": "light"
     },
     "output_type": "display_data"
    }
   ],
   "source": [
    "app_train[['SK_ID_CURR','DAYS_BIRTH']].plot.box()"
   ]
  },
  {
   "cell_type": "code",
   "execution_count": null,
   "metadata": {},
   "outputs": [],
   "source": []
  }
 ],
 "metadata": {
  "kernelspec": {
   "display_name": "Python 3",
   "language": "python",
   "name": "python3"
  },
  "language_info": {
   "codemirror_mode": {
    "name": "ipython",
    "version": 3
   },
   "file_extension": ".py",
   "mimetype": "text/x-python",
   "name": "python",
   "nbconvert_exporter": "python",
   "pygments_lexer": "ipython3",
   "version": "3.7.3"
  }
 },
 "nbformat": 4,
 "nbformat_minor": 2
}
