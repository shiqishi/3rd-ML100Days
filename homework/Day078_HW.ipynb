{
 "cells": [
  {
   "cell_type": "markdown",
   "metadata": {},
   "source": [
    "## Work\n",
    "1. 請嘗試將 preproc_x 替換成以每筆資料的 min/max 進行標準化至 -1 ~ 1 間，再進行訓練\n",
    "2. 請嘗試將 mlp 疊更深 (e.g 5~10 層)，進行訓練後觀察 learning curve 的走勢\n",
    "3. (optional) 請改用 GPU 進行訓練 (如果你有 GPU 的話)，比較使用 CPU 與 GPU 的訓練速度"
   ]
  },
  {
   "cell_type": "code",
   "execution_count": 1,
   "metadata": {},
   "outputs": [],
   "source": [
    "## \n",
    "\"\"\"\n",
    "Your code here (optional)\n",
    "確認硬體資源\n",
    "\"\"\"\n"
   ]
  },
  {
   "cell_type": "code",
   "execution_count": 6,
   "metadata": {},
   "outputs": [],
   "source": [
    "import os\n",
    "from tensorflow import keras\n",
    "\n",
    "# 請嘗試設定 GPU：os.environ\n"
   ]
  },
  {
   "cell_type": "code",
   "execution_count": 7,
   "metadata": {},
   "outputs": [],
   "source": [
    "train, test = keras.datasets.cifar10.load_data()"
   ]
  },
  {
   "cell_type": "code",
   "execution_count": 8,
   "metadata": {},
   "outputs": [],
   "source": [
    "## 資料前處理\n",
    "\"\"\"\n",
    "Your code here\n",
    "\"\"\"\n",
    "def preproc_x(x,flatten=True):\n",
    "    x=(x-x.min())/(x.max()-x.min())*2-1\n",
    "    if flatten:\n",
    "        x=x.reshape((len(x),-1))\n",
    "    return x\n",
    "\n",
    "def preproc_y(y,num_classes=10):\n",
    "    if y.shape[-1] ==1:\n",
    "        y = keras.utils.to_categorical(y, num_classes)\n",
    "    return y    "
   ]
  },
  {
   "cell_type": "code",
   "execution_count": 9,
   "metadata": {},
   "outputs": [],
   "source": [
    "x_train, y_train = train\n",
    "x_test, y_test = test\n",
    "\n",
    "# Preproc the inputs\n",
    "x_train = preproc_x(x_train)\n",
    "x_test = preproc_x(x_test)\n",
    "\n",
    "# Preprc the outputs\n",
    "y_train = preproc_y(y_train)\n",
    "y_test = preproc_y(y_test)"
   ]
  },
  {
   "cell_type": "code",
   "execution_count": 10,
   "metadata": {},
   "outputs": [
    {
     "name": "stdout",
     "output_type": "stream",
     "text": [
      "Model: \"model\"\n",
      "_________________________________________________________________\n",
      "Layer (type)                 Output Shape              Param #   \n",
      "=================================================================\n",
      "input_1 (InputLayer)         [(None, 3072)]            0         \n",
      "_________________________________________________________________\n",
      "hidden_layer1 (Dense)        (None, 512)               1573376   \n",
      "_________________________________________________________________\n",
      "hidden_layer2 (Dense)        (None, 256)               131328    \n",
      "_________________________________________________________________\n",
      "hidden_layer3 (Dense)        (None, 256)               65792     \n",
      "_________________________________________________________________\n",
      "hidden_layer4 (Dense)        (None, 256)               65792     \n",
      "_________________________________________________________________\n",
      "hidden_layer5 (Dense)        (None, 128)               32896     \n",
      "_________________________________________________________________\n",
      "hidden_layer6 (Dense)        (None, 128)               16512     \n",
      "_________________________________________________________________\n",
      "output (Dense)               (None, 10)                1290      \n",
      "=================================================================\n",
      "Total params: 1,886,986\n",
      "Trainable params: 1,886,986\n",
      "Non-trainable params: 0\n",
      "_________________________________________________________________\n"
     ]
    }
   ],
   "source": [
    "\"\"\"Code Here\n",
    "建立你的神經網路\n",
    "\"\"\"\n",
    "def build_mlp(input_shape, output_units=10, num_neurons=[512, 256, 256, 256, 128, 128]):\n",
    "    input_layer = keras.layers.Input(input_shape)\n",
    "    \n",
    "    for i, n_units in enumerate(num_neurons):\n",
    "        if i == 0:\n",
    "            x = keras.layers.Dense(units=n_units, activation=\"relu\", name=\"hidden_layer\"+str(i+1))(input_layer)\n",
    "        else:\n",
    "            x = keras.layers.Dense(units=n_units, activation=\"relu\", name=\"hidden_layer\"+str(i+1))(x)\n",
    "    \n",
    "    out = keras.layers.Dense(units=output_units, activation=\"softmax\", name=\"output\")(x)\n",
    "    \n",
    "    model = keras.models.Model(inputs=[input_layer], outputs=[out])\n",
    "    return model\n",
    "\n",
    "model = build_mlp(input_shape=x_train.shape[1:])\n",
    "model.summary()"
   ]
  },
  {
   "cell_type": "code",
   "execution_count": 11,
   "metadata": {},
   "outputs": [],
   "source": [
    "## 超參數設定\n",
    "LEARNING_RATE = 0.001\n",
    "EPOCHS = 50\n",
    "BATCH_SIZE = 256"
   ]
  },
  {
   "cell_type": "code",
   "execution_count": 12,
   "metadata": {},
   "outputs": [],
   "source": [
    "optimizer = keras.optimizers.Adam(lr=LEARNING_RATE)\n",
    "model.compile(loss=\"categorical_crossentropy\", metrics=[\"accuracy\"], optimizer=optimizer)"
   ]
  },
  {
   "cell_type": "code",
   "execution_count": 13,
   "metadata": {},
   "outputs": [
    {
     "name": "stdout",
     "output_type": "stream",
     "text": [
      "Train on 50000 samples, validate on 10000 samples\n",
      "Epoch 1/50\n",
      "50000/50000 [==============================] - 10s 200us/sample - loss: 1.6997 - accuracy: 0.3949 - val_loss: 1.5390 - val_accuracy: 0.4507\n",
      "Epoch 2/50\n",
      "50000/50000 [==============================] - 9s 176us/sample - loss: 1.4733 - accuracy: 0.4774 - val_loss: 1.4450 - val_accuracy: 0.4911\n",
      "Epoch 3/50\n",
      "50000/50000 [==============================] - 9s 176us/sample - loss: 1.3508 - accuracy: 0.5228 - val_loss: 1.4131 - val_accuracy: 0.5007\n",
      "Epoch 4/50\n",
      "50000/50000 [==============================] - 9s 175us/sample - loss: 1.2515 - accuracy: 0.5553 - val_loss: 1.3494 - val_accuracy: 0.5281\n",
      "Epoch 5/50\n",
      "50000/50000 [==============================] - 9s 179us/sample - loss: 1.1677 - accuracy: 0.5867 - val_loss: 1.3623 - val_accuracy: 0.5255\n",
      "Epoch 6/50\n",
      "50000/50000 [==============================] - 8s 167us/sample - loss: 1.0902 - accuracy: 0.6141 - val_loss: 1.3597 - val_accuracy: 0.5288\n",
      "Epoch 7/50\n",
      "50000/50000 [==============================] - 10s 209us/sample - loss: 1.0084 - accuracy: 0.6421 - val_loss: 1.3376 - val_accuracy: 0.5425\n",
      "Epoch 8/50\n",
      "50000/50000 [==============================] - 9s 175us/sample - loss: 0.9333 - accuracy: 0.6677 - val_loss: 1.3934 - val_accuracy: 0.5409\n",
      "Epoch 9/50\n",
      "50000/50000 [==============================] - 9s 186us/sample - loss: 0.8622 - accuracy: 0.6933 - val_loss: 1.4430 - val_accuracy: 0.5338\n",
      "Epoch 10/50\n",
      "50000/50000 [==============================] - 9s 182us/sample - loss: 0.7994 - accuracy: 0.7176 - val_loss: 1.5279 - val_accuracy: 0.5375\n",
      "Epoch 11/50\n",
      "50000/50000 [==============================] - 9s 184us/sample - loss: 0.7275 - accuracy: 0.7388 - val_loss: 1.4916 - val_accuracy: 0.5391\n",
      "Epoch 12/50\n",
      "50000/50000 [==============================] - 8s 169us/sample - loss: 0.6665 - accuracy: 0.7609 - val_loss: 1.6233 - val_accuracy: 0.5340\n",
      "Epoch 13/50\n",
      "50000/50000 [==============================] - 8s 168us/sample - loss: 0.6101 - accuracy: 0.7821 - val_loss: 1.7012 - val_accuracy: 0.5377\n",
      "Epoch 14/50\n",
      "50000/50000 [==============================] - 9s 184us/sample - loss: 0.5642 - accuracy: 0.7993 - val_loss: 1.7280 - val_accuracy: 0.5382\n",
      "Epoch 15/50\n",
      "50000/50000 [==============================] - 9s 187us/sample - loss: 0.5172 - accuracy: 0.8160 - val_loss: 1.7525 - val_accuracy: 0.5380\n",
      "Epoch 16/50\n",
      "50000/50000 [==============================] - 9s 173us/sample - loss: 0.4663 - accuracy: 0.8336 - val_loss: 1.9011 - val_accuracy: 0.5357\n",
      "Epoch 17/50\n",
      "50000/50000 [==============================] - 9s 180us/sample - loss: 0.4256 - accuracy: 0.8512 - val_loss: 2.0765 - val_accuracy: 0.5318\n",
      "Epoch 18/50\n",
      "50000/50000 [==============================] - 9s 186us/sample - loss: 0.3860 - accuracy: 0.8635 - val_loss: 2.1278 - val_accuracy: 0.5287\n",
      "Epoch 19/50\n",
      "50000/50000 [==============================] - 9s 184us/sample - loss: 0.3722 - accuracy: 0.8688 - val_loss: 2.1618 - val_accuracy: 0.5370\n",
      "Epoch 20/50\n",
      "50000/50000 [==============================] - 9s 175us/sample - loss: 0.3399 - accuracy: 0.8812 - val_loss: 2.2375 - val_accuracy: 0.5232\n",
      "Epoch 21/50\n",
      "50000/50000 [==============================] - 9s 175us/sample - loss: 0.3162 - accuracy: 0.8902 - val_loss: 2.3232 - val_accuracy: 0.5330\n",
      "Epoch 22/50\n",
      "50000/50000 [==============================] - 9s 174us/sample - loss: 0.2845 - accuracy: 0.8993 - val_loss: 2.4543 - val_accuracy: 0.5247\n",
      "Epoch 23/50\n",
      "50000/50000 [==============================] - 9s 177us/sample - loss: 0.2823 - accuracy: 0.8998 - val_loss: 2.4721 - val_accuracy: 0.5431\n",
      "Epoch 24/50\n",
      "50000/50000 [==============================] - 8s 166us/sample - loss: 0.2609 - accuracy: 0.9087 - val_loss: 2.5212 - val_accuracy: 0.5313\n",
      "Epoch 25/50\n",
      "50000/50000 [==============================] - 8s 169us/sample - loss: 0.2404 - accuracy: 0.9161 - val_loss: 2.6526 - val_accuracy: 0.5274\n",
      "Epoch 26/50\n",
      "50000/50000 [==============================] - 8s 169us/sample - loss: 0.2184 - accuracy: 0.9234 - val_loss: 2.6886 - val_accuracy: 0.5254\n",
      "Epoch 27/50\n",
      "50000/50000 [==============================] - 8s 169us/sample - loss: 0.2158 - accuracy: 0.9248 - val_loss: 2.8239 - val_accuracy: 0.5327\n",
      "Epoch 28/50\n",
      "50000/50000 [==============================] - 9s 172us/sample - loss: 0.2142 - accuracy: 0.9245 - val_loss: 2.9058 - val_accuracy: 0.5335\n",
      "Epoch 29/50\n",
      "50000/50000 [==============================] - 9s 183us/sample - loss: 0.1890 - accuracy: 0.9354 - val_loss: 3.0263 - val_accuracy: 0.5324\n",
      "Epoch 30/50\n",
      "50000/50000 [==============================] - 11s 210us/sample - loss: 0.1948 - accuracy: 0.9343 - val_loss: 3.0322 - val_accuracy: 0.5324\n",
      "Epoch 31/50\n",
      "50000/50000 [==============================] - 10s 210us/sample - loss: 0.1830 - accuracy: 0.9373 - val_loss: 2.9434 - val_accuracy: 0.5244\n",
      "Epoch 32/50\n",
      "50000/50000 [==============================] - 11s 219us/sample - loss: 0.1682 - accuracy: 0.9434 - val_loss: 3.1778 - val_accuracy: 0.5219\n",
      "Epoch 33/50\n",
      "50000/50000 [==============================] - 11s 223us/sample - loss: 0.1641 - accuracy: 0.9441 - val_loss: 3.2431 - val_accuracy: 0.5357\n",
      "Epoch 34/50\n",
      "50000/50000 [==============================] - 12s 248us/sample - loss: 0.1655 - accuracy: 0.9439 - val_loss: 3.1537 - val_accuracy: 0.5354\n",
      "Epoch 35/50\n",
      "50000/50000 [==============================] - 13s 258us/sample - loss: 0.1550 - accuracy: 0.9476 - val_loss: 3.2540 - val_accuracy: 0.5236\n",
      "Epoch 36/50\n",
      "50000/50000 [==============================] - 10s 206us/sample - loss: 0.1538 - accuracy: 0.9465 - val_loss: 3.1041 - val_accuracy: 0.5317\n",
      "Epoch 37/50\n",
      "50000/50000 [==============================] - 10s 195us/sample - loss: 0.1563 - accuracy: 0.9481 - val_loss: 3.2973 - val_accuracy: 0.5345\n",
      "Epoch 38/50\n",
      "50000/50000 [==============================] - 10s 198us/sample - loss: 0.1466 - accuracy: 0.9505 - val_loss: 3.2507 - val_accuracy: 0.5344\n",
      "Epoch 39/50\n",
      "50000/50000 [==============================] - 10s 194us/sample - loss: 0.1422 - accuracy: 0.9521 - val_loss: 3.3613 - val_accuracy: 0.5328\n",
      "Epoch 40/50\n",
      "50000/50000 [==============================] - 9s 183us/sample - loss: 0.1431 - accuracy: 0.9525 - val_loss: 3.1505 - val_accuracy: 0.5335\n",
      "Epoch 41/50\n",
      "50000/50000 [==============================] - 14s 274us/sample - loss: 0.1224 - accuracy: 0.9589 - val_loss: 3.5285 - val_accuracy: 0.5350\n",
      "Epoch 42/50\n",
      "50000/50000 [==============================] - 11s 218us/sample - loss: 0.1476 - accuracy: 0.9509 - val_loss: 3.2359 - val_accuracy: 0.5292\n",
      "Epoch 43/50\n",
      "50000/50000 [==============================] - 11s 211us/sample - loss: 0.1277 - accuracy: 0.9575 - val_loss: 3.4248 - val_accuracy: 0.5262\n",
      "Epoch 44/50\n",
      "50000/50000 [==============================] - 11s 219us/sample - loss: 0.1191 - accuracy: 0.9597 - val_loss: 3.4973 - val_accuracy: 0.5183\n",
      "Epoch 45/50\n",
      "50000/50000 [==============================] - 11s 211us/sample - loss: 0.1238 - accuracy: 0.9586 - val_loss: 3.5008 - val_accuracy: 0.5287\n",
      "Epoch 46/50\n",
      "50000/50000 [==============================] - 14s 279us/sample - loss: 0.1133 - accuracy: 0.9627 - val_loss: 3.5262 - val_accuracy: 0.5260\n",
      "Epoch 47/50\n",
      "50000/50000 [==============================] - 11s 213us/sample - loss: 0.1254 - accuracy: 0.9587 - val_loss: 3.3366 - val_accuracy: 0.5339\n",
      "Epoch 48/50\n",
      "50000/50000 [==============================] - 9s 175us/sample - loss: 0.1032 - accuracy: 0.9658 - val_loss: 3.6698 - val_accuracy: 0.5332\n",
      "Epoch 49/50\n",
      "50000/50000 [==============================] - 10s 194us/sample - loss: 0.1194 - accuracy: 0.9603 - val_loss: 3.6929 - val_accuracy: 0.5296\n",
      "Epoch 50/50\n",
      "50000/50000 [==============================] - 9s 189us/sample - loss: 0.1131 - accuracy: 0.9623 - val_loss: 3.4418 - val_accuracy: 0.5369\n"
     ]
    },
    {
     "data": {
      "text/plain": [
       "<tensorflow.python.keras.callbacks.History at 0x6b2b15f518>"
      ]
     },
     "execution_count": 13,
     "metadata": {},
     "output_type": "execute_result"
    }
   ],
   "source": [
    "model.fit(x_train, y_train, \n",
    "          epochs=EPOCHS, \n",
    "          batch_size=BATCH_SIZE, \n",
    "          validation_data=(x_test, y_test), \n",
    "          shuffle=True)"
   ]
  },
  {
   "cell_type": "code",
   "execution_count": 15,
   "metadata": {
    "scrolled": true
   },
   "outputs": [
    {
     "data": {
      "image/png": "[encoded data removed]",
      "text/plain": [
       "<Figure size 432x288 with 1 Axes>"
      ]
     },
     "metadata": {
      "needs_background": "light"
     },
     "output_type": "display_data"
    },
    {
     "data": {
      "image/png": "[encoded data removed]",
      "text/plain": [
       "<Figure size 432x288 with 1 Axes>"
      ]
     },
     "metadata": {
      "needs_background": "light"
     },
     "output_type": "display_data"
    }
   ],
   "source": [
    "import matplotlib.pyplot as plt\n",
    "\n",
    "\n",
    "train_loss = model.history.history[\"loss\"]\n",
    "valid_loss = model.history.history[\"val_loss\"]\n",
    "\n",
    "train_acc = model.history.history[\"accuracy\"]\n",
    "valid_acc = model.history.history[\"val_accuracy\"]\n",
    "\n",
    "plt.plot(range(len(train_loss)), train_loss, label=\"train loss\")\n",
    "plt.plot(range(len(valid_loss)), valid_loss, label=\"valid loss\")\n",
    "plt.legend()\n",
    "plt.title(\"Loss\")\n",
    "plt.show()\n",
    "\n",
    "plt.plot(range(len(train_acc)), train_acc, label=\"train accuracy\")\n",
    "plt.plot(range(len(valid_acc)), valid_acc, label=\"valid accuracy\")\n",
    "plt.legend()\n",
    "plt.title(\"Accuracy\")\n",
    "plt.show()"
   ]
  },
  {
   "cell_type": "code",
   "execution_count": null,
   "metadata": {},
   "outputs": [],
   "source": []
  }
 ],
 "metadata": {
  "kernelspec": {
   "display_name": "Python 3",
   "language": "python",
   "name": "python3"
  },
  "language_info": {
   "codemirror_mode": {
    "name": "ipython",
    "version": 3
   },
   "file_extension": ".py",
   "mimetype": "text/x-python",
   "name": "python",
   "nbconvert_exporter": "python",
   "pygments_lexer": "ipython3",
   "version": "3.7.3"
  }
 },
 "nbformat": 4,
 "nbformat_minor": 2
}
